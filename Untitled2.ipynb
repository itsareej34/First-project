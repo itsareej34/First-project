{
 "cells": [
  {
   "cell_type": "code",
   "execution_count": 1,
   "id": "ca940445",
   "metadata": {},
   "outputs": [
    {
     "name": "stdout",
     "output_type": "stream",
     "text": [
      "My project\n"
     ]
    }
   ],
   "source": [
    "print(\"My project\")"
   ]
  },
  {
   "cell_type": "code",
   "execution_count": 2,
   "id": "c39c1932",
   "metadata": {},
   "outputs": [
    {
     "data": {
      "text/plain": [
       "float"
      ]
     },
     "execution_count": 2,
     "metadata": {},
     "output_type": "execute_result"
    }
   ],
   "source": [
    "type(12.5)"
   ]
  },
  {
   "cell_type": "code",
   "execution_count": 3,
   "id": "b8e19269",
   "metadata": {},
   "outputs": [
    {
     "data": {
      "text/plain": [
       "14"
      ]
     },
     "execution_count": 3,
     "metadata": {},
     "output_type": "execute_result"
    }
   ],
   "source": [
    "(12-5)*2"
   ]
  },
  {
   "cell_type": "code",
   "execution_count": 4,
   "id": "0a7715bf",
   "metadata": {},
   "outputs": [
    {
     "data": {
      "text/plain": [
       "4"
      ]
     },
     "execution_count": 4,
     "metadata": {},
     "output_type": "execute_result"
    }
   ],
   "source": [
    "name = \"AREEJ\"\n",
    "name.find('J')"
   ]
  },
  {
   "cell_type": "code",
   "execution_count": 5,
   "id": "18435201",
   "metadata": {},
   "outputs": [
    {
     "data": {
      "text/plain": [
       "12"
      ]
     },
     "execution_count": 5,
     "metadata": {},
     "output_type": "execute_result"
    }
   ],
   "source": [
    "len(\"Selena Gomez\")"
   ]
  },
  {
   "cell_type": "code",
   "execution_count": 9,
   "id": "6950bd07",
   "metadata": {},
   "outputs": [
    {
     "name": "stdout",
     "output_type": "stream",
     "text": [
      "m\n"
     ]
    }
   ],
   "source": [
    "name = \"Selena Gomez\"\n",
    "print(name[-3])"
   ]
  },
  {
   "cell_type": "code",
   "execution_count": 10,
   "id": "6a2c36d5",
   "metadata": {},
   "outputs": [
    {
     "data": {
      "text/plain": [
       "['first', 'project']"
      ]
     },
     "execution_count": 10,
     "metadata": {},
     "output_type": "execute_result"
    }
   ],
   "source": [
    "'first project'.split()"
   ]
  },
  {
   "cell_type": "code",
   "execution_count": null,
   "id": "7186921c",
   "metadata": {},
   "outputs": [],
   "source": []
  }
 ],
 "metadata": {
  "kernelspec": {
   "display_name": "Python 3 (ipykernel)",
   "language": "python",
   "name": "python3"
  },
  "language_info": {
   "codemirror_mode": {
    "name": "ipython",
    "version": 3
   },
   "file_extension": ".py",
   "mimetype": "text/x-python",
   "name": "python",
   "nbconvert_exporter": "python",
   "pygments_lexer": "ipython3",
   "version": "3.9.12"
  }
 },
 "nbformat": 4,
 "nbformat_minor": 5
}
